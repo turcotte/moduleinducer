{
  "nbformat": 4,
  "nbformat_minor": 0,
  "metadata": {
    "colab": {
      "provenance": [],
      "mount_file_id": "1SA3mB1xeUtReqbKqZm1psaqNMttPvlWf",
      "authorship_tag": "ABX9TyMfz8zOBQGrY20AibzYbCrt",
      "include_colab_link": true
    },
    "kernelspec": {
      "name": "python3",
      "display_name": "Python 3"
    },
    "language_info": {
      "name": "python"
    }
  },
  "cells": [
    {
      "cell_type": "markdown",
      "metadata": {
        "id": "view-in-github",
        "colab_type": "text"
      },
      "source": [
        "<a href=\"https://colab.research.google.com/github/turcotte/moduleinducer/blob/master/Copie_de_Copie_de_Untitled0.ipynb\" target=\"_parent\"><img src=\"https://colab.research.google.com/assets/colab-badge.svg\" alt=\"Open In Colab\"/></a>"
      ]
    },
    {
      "cell_type": "code",
      "execution_count": null,
      "metadata": {
        "id": "FZY8BF2kMpPU",
        "colab": {
          "base_uri": "https://localhost:8080/"
        },
        "outputId": "b27f1455-857e-4766-f95f-9b8d46c75c0a"
      },
      "outputs": [
        {
          "output_type": "stream",
          "name": "stdout",
          "text": [
            "2024-08-27\n"
          ]
        }
      ],
      "source": [
        "# prompt: Write a Python script that prints the current time plus 180 days. It should print the date without the time.\n",
        "\n",
        "from datetime import datetime, timedelta\n",
        "\n",
        "# Get the current date\n",
        "now = datetime.now()\n",
        "\n",
        "# Add 180 days to the current date\n",
        "future_date = now + timedelta(days=180)\n",
        "\n",
        "# Print the future date without the time\n",
        "print(future_date.date())\n"
      ]
    }
  ]
}